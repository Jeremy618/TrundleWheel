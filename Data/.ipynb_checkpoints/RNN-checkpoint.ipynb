{
 "cells": [
  {
   "cell_type": "markdown",
   "id": "f1d27a40",
   "metadata": {},
   "source": [
    "# Data Analys 2 (RNN)\n",
    "    This notebook is based on the walkDatas_Analysis and proposes another approach for the neural network: the recursive neural network (RNN). More precisely, it uses the LSTM (Long Short-Term Memory) NN.\n",
    "    "
   ]
  },
  {
   "cell_type": "code",
   "execution_count": 5,
   "id": "4606ee51",
   "metadata": {},
   "outputs": [],
   "source": [
    "# import math\n",
    "import pandas as pd\n",
    "# import numpy as np\n",
    "# import re\n",
    "# import csv\n",
    "# from datetime import datetime\n",
    "# import folium\n",
    "# from folium import plugins\n",
    "import matplotlib.pyplot as plt\n",
    "# import os\n",
    "\n",
    "# from keras.models import Sequential\n",
    "# from keras.layers import Dense\n",
    "# from keras.optimizers import Adam\n",
    "\n",
    "# from sklearn.metrics import mean_squared_error, mean_absolute_error\n",
    "from sklearn.preprocessing import MinMaxScaler\n",
    "from sklearn.metrics import r2_score\n",
    "\n",
    "import numpy as np\n",
    "from tensorflow.keras import Input\n",
    "from tensorflow.keras.layers import LSTM,Dense,Bidirectional\n",
    "from tensorflow.keras.models import Model\n",
    "\n",
    "#pip install -U numpy==1.18.5\n",
    "\n",
    "file_path = \"C:\\\\Users\\\\jerem\\\\Documents\\\\TrundleWheel\\\\Data\\\\User1_Jeremy_Bezancon\\\\\" #file path of the txt file"
   ]
  },
  {
   "cell_type": "markdown",
   "id": "33f67270",
   "metadata": {},
   "source": [
    "## <font color='red'> Multivariate LSTM model </font>\n"
   ]
  },
  {
   "cell_type": "code",
   "execution_count": 70,
   "id": "40c7a42e",
   "metadata": {
    "scrolled": true
   },
   "outputs": [
    {
     "name": "stdout",
     "output_type": "stream",
     "text": [
      "train data length =  358074\n",
      "[[  0.3         -1.4         -0.7        ... -19.           1.\n",
      "    1.00625   ]\n",
      " [  0.3         -1.1         -1.2        ... -15.           1.\n",
      "    1.01875   ]\n",
      " [  0.3         -1.          -1.3        ... -11.3          1.\n",
      "    1.03125   ]\n",
      " ...\n",
      " [ -3.8        -10.3         -1.5        ...  63.6        109.46218487\n",
      "  111.94029851]\n",
      " [ -3.         -10.1         -0.9        ...  63.6        109.4789916\n",
      "  111.97014925]\n",
      " [ -1.5        -10.           0.9        ...  87.7        109.50420168\n",
      "  112.01428571]]\n"
     ]
    }
   ],
   "source": [
    "file_path = \"C:\\\\Users\\\\jerem\\\\Documents\\\\TrundleWheel\\\\Data\\\\User1_Jeremy_Bezancon\\\\\" #file path of the txt file\n",
    "data = pd.read_csv(file_path+'all_datas_2'+'.csv', sep=';')\n",
    "\n",
    "row_s, row_e = 0, int(len(data)/10)      # first row, last row\n",
    "column_s, column_e = 1, 11   # first column, last column (last one isn't taken into account)\n",
    "# Columns 1 to 9 correspond to the accelereation datas\n",
    "# Column 10 correspond to steps data\n",
    "# Column 11 correspond to distance data\n",
    "print(\"train data length = \",row_e)\n",
    "\n",
    "dataset = data.iloc[row_s:row_e, list(range(column_s, column_e)) + [11]].values\n",
    "# print(dataset)\n",
    "\n",
    "# reshape input values between 0 and 1:\n",
    "# columns_to_scale = dataset[:, column_s:column_e]\n",
    "# scaler = MinMaxScaler(feature_range=(0, 1))\n",
    "# scaled_columns = scaler.fit_transform(columns_to_scale)\n",
    "# dataset[:, column_s:column_e] = scaled_columns\n",
    "\n",
    "print(dataset)"
   ]
  },
  {
   "cell_type": "code",
   "execution_count": 71,
   "id": "1422dc79",
   "metadata": {},
   "outputs": [],
   "source": [
    "def split_sequence_total(sequences,n_steps):\n",
    "    X,y = list(),list()\n",
    "    \n",
    "    for i in range(len(sequences)):\n",
    "        end_ix = i +n_steps\n",
    "        if end_ix >len(sequences):\n",
    "            break\n",
    "            \n",
    "        seq_x,seq_y = sequences[i:end_ix,:-1],sequences[end_ix-1,-1]\n",
    "        X.append(seq_x)\n",
    "        y.append(seq_y) \n",
    "        \n",
    "    return np.array(X),np.array(y)\n",
    "\n",
    "def split_sequence_difference(sequences,n_steps):\n",
    "    X,y = list(),list()\n",
    "    \n",
    "    old_sequences_y = 0\n",
    "    old_sequences_steps = np.zeros(n_steps)\n",
    "    \n",
    "    for i in range(len(sequences)):\n",
    "        end_ix = i +n_steps\n",
    "        if end_ix >len(sequences):\n",
    "            break\n",
    "            \n",
    "        seq_x,seq_y = sequences[i:end_ix,:-1].copy(),sequences[end_ix-1,-1]-old_sequences_y       \n",
    "        \n",
    "        seq_x[0:n_steps,-1] = seq_x[0:n_steps,-1] - old_sequences_steps\n",
    "    \n",
    "        old_sequences_y = sequences[i,-1]\n",
    "        old_sequences_steps = np.full(n_steps, sequences[i,-2])\n",
    "\n",
    "        X.append(seq_x)\n",
    "        y.append(seq_y)\n",
    "        \n",
    "    return np.array(X),np.array(y)"
   ]
  },
  {
   "cell_type": "code",
   "execution_count": 72,
   "id": "4c7b4e18",
   "metadata": {},
   "outputs": [
    {
     "name": "stdout",
     "output_type": "stream",
     "text": [
      "(358070, 5, 10) (358070,)\n"
     ]
    }
   ],
   "source": [
    "n_steps = 5\n",
    "\n",
    "X,y = split_sequence_difference(dataset,n_steps)\n",
    "print(X.shape,y.shape)\n",
    "\n",
    "# for i in range(100):\n",
    "#     print(X[i+1000],y[i+1000])"
   ]
  },
  {
   "cell_type": "markdown",
   "id": "a323ea8b",
   "metadata": {},
   "source": [
    "#### <font color='chocolate'>define model</font>"
   ]
  },
  {
   "cell_type": "code",
   "execution_count": 73,
   "id": "8b71cffc",
   "metadata": {
    "scrolled": true
   },
   "outputs": [],
   "source": [
    "n_features = X.shape[2]\n",
    "x0 = Input(shape=(n_steps,n_features))\n",
    "x1 = LSTM(50,activation='relu')(x0)\n",
    "output = Dense(1)(x1)\n",
    "\n",
    "model = Model(inputs = x0,outputs = output)\n",
    "model.compile(optimizer='adam',loss='mse')"
   ]
  },
  {
   "cell_type": "code",
   "execution_count": null,
   "id": "5700deb6",
   "metadata": {
    "scrolled": true
   },
   "outputs": [
    {
     "name": "stdout",
     "output_type": "stream",
     "text": [
      "Epoch 1/200\n",
      "11190/11190 [==============================] - 37s 3ms/step - loss: 39.1560\n",
      "Epoch 2/200\n",
      "11190/11190 [==============================] - 36s 3ms/step - loss: 38.8532\n",
      "Epoch 3/200\n",
      "11190/11190 [==============================] - 37s 3ms/step - loss: 26.6915\n",
      "Epoch 4/200\n",
      "11190/11190 [==============================] - 38s 3ms/step - loss: 26.9041\n",
      "Epoch 5/200\n",
      "11190/11190 [==============================] - 41s 4ms/step - loss: 24.3506\n",
      "Epoch 6/200\n",
      "11190/11190 [==============================] - 40s 4ms/step - loss: 13.8049\n",
      "Epoch 7/200\n",
      "11190/11190 [==============================] - 39s 3ms/step - loss: 5.0864\n",
      "Epoch 8/200\n",
      "11190/11190 [==============================] - 40s 4ms/step - loss: 5.8055\n",
      "Epoch 9/200\n",
      "11190/11190 [==============================] - 39s 4ms/step - loss: 6.9650\n",
      "Epoch 10/200\n",
      "11190/11190 [==============================] - 39s 3ms/step - loss: 9.4462\n",
      "Epoch 11/200\n",
      "11190/11190 [==============================] - 39s 4ms/step - loss: 18.5050\n",
      "Epoch 12/200\n",
      "11190/11190 [==============================] - 40s 4ms/step - loss: 18.6164\n",
      "Epoch 13/200\n",
      "11190/11190 [==============================] - 40s 4ms/step - loss: 14.8533\n",
      "Epoch 14/200\n",
      "11190/11190 [==============================] - 40s 4ms/step - loss: 22.7534\n",
      "Epoch 15/200\n",
      "11190/11190 [==============================] - 39s 4ms/step - loss: 7.4449\n",
      "Epoch 16/200\n",
      "11190/11190 [==============================] - 39s 3ms/step - loss: 9.2486\n",
      "Epoch 17/200\n",
      "11190/11190 [==============================] - 40s 4ms/step - loss: 14.0291\n",
      "Epoch 18/200\n",
      "11190/11190 [==============================] - 39s 3ms/step - loss: 19.6857\n",
      "Epoch 19/200\n",
      "11190/11190 [==============================] - 41s 4ms/step - loss: 16.0001\n",
      "Epoch 20/200\n",
      "11190/11190 [==============================] - 39s 3ms/step - loss: 9.7804\n",
      "Epoch 21/200\n",
      "11190/11190 [==============================] - 39s 3ms/step - loss: 18.9344\n",
      "Epoch 22/200\n",
      "11190/11190 [==============================] - 39s 3ms/step - loss: 25.7559\n",
      "Epoch 23/200\n",
      "11190/11190 [==============================] - 40s 4ms/step - loss: 14.0013\n",
      "Epoch 24/200\n",
      "11190/11190 [==============================] - 39s 4ms/step - loss: 11.7792\n",
      "Epoch 25/200\n",
      "11190/11190 [==============================] - 41s 4ms/step - loss: 24.5349\n",
      "Epoch 26/200\n",
      "11190/11190 [==============================] - 39s 4ms/step - loss: 26.3706\n",
      "Epoch 27/200\n",
      "11190/11190 [==============================] - 40s 4ms/step - loss: 17.7802\n",
      "Epoch 28/200\n",
      "11190/11190 [==============================] - 40s 4ms/step - loss: 11.5712\n",
      "Epoch 29/200\n",
      "11190/11190 [==============================] - 40s 4ms/step - loss: 7.9400\n",
      "Epoch 30/200\n",
      "11190/11190 [==============================] - 40s 4ms/step - loss: 10.7092\n",
      "Epoch 31/200\n",
      "11190/11190 [==============================] - 40s 4ms/step - loss: 23.6364\n",
      "Epoch 32/200\n",
      "11190/11190 [==============================] - 39s 4ms/step - loss: 36.1304\n",
      "Epoch 33/200\n",
      "11190/11190 [==============================] - 41s 4ms/step - loss: 22.6841\n",
      "Epoch 34/200\n",
      "11190/11190 [==============================] - 40s 4ms/step - loss: 11.9396\n",
      "Epoch 35/200\n",
      " 4454/11190 [==========>...................] - ETA: 23s - loss: 5.6113"
     ]
    }
   ],
   "source": [
    "hist = model.fit(X,y,epochs=200,verbose=1)"
   ]
  },
  {
   "cell_type": "code",
   "execution_count": null,
   "id": "89d8e3ca",
   "metadata": {},
   "outputs": [],
   "source": [
    "data_valid = pd.read_csv(file_path+'normal_speed_valid_conditioned_2'+'.csv', sep=';') # Normal speed\n",
    "# data_valid = pd.read_csv(file_path+'mix_of_everything_valid_conditioned_2'+'.csv', sep=';') # mix of every speed\n",
    "\n",
    "y_pred_tab = []\n",
    "time = []\n",
    "valid_distance = []\n",
    "\n",
    "# Use this code if you want to make a prediction using the total distance and steps:\n",
    "#__________________________________________________________________________________\n",
    "# row_e = len(data_valid)\n",
    "# N = 100 # number of valid data\n",
    "# step = int(row_e/N)\n",
    "# print(\"length of valid data:\",row_e)\n",
    "\n",
    "# for row in range(0,row_e,step):\n",
    "\n",
    "    \n",
    "#     selected_columns = data_valid.iloc[row:row + n_steps, column_s:column_e]    \n",
    "    \n",
    "#     x_input = selected_columns\n",
    "#     x_input = x_input.reshape((1,step,n_features))\n",
    "\n",
    "#     y_pred = model.predict(x_input,verbose=0) # for total distance and steps\n",
    "    \n",
    "#     y_pred_tab.append(y_pred[0,0])\n",
    "#     time.append(data.iloc[row,0])\n",
    "#     valid_distance.append(data_valid.iloc[row,11])\n",
    "#__________________________________________________________________________________\n",
    "\n",
    "# Use this code if you want to make a prediction using steps difference and distance difference between two samples\n",
    "#__________________________________________________________________________________\n",
    "old_y_pred = 0 # last prediction\n",
    "old_sequences_steps = np.zeros(n_steps)\n",
    "step = n_steps # it's necessary in this case\n",
    "row_e = len(data_valid) - (len(data_valid)%step)\n",
    "row_e = 10000\n",
    "print(\"length of valid data:\",row_e)\n",
    "\n",
    "for row in range(0,row_e,step):\n",
    "\n",
    "    selected_columns = data_valid.iloc[row:row + step, column_s:column_e].values.copy()\n",
    "    selected_columns[:,-1] = selected_columns[:,-1] - old_sequences_steps\n",
    "    old_sequences_steps = np.full(step, data_valid.iloc[row+step-1, -2])\n",
    "    \n",
    "    x_input = selected_columns\n",
    "    x_input = x_input.reshape((1,step,n_features))\n",
    "    \n",
    "    distance_interval=model.predict(x_input,verbose=0)\n",
    "    y_pred = distance_interval + old_y_pred\n",
    "    old_y_pred = y_pred\n",
    "    \n",
    "    y_pred_tab.append(y_pred[0,0])\n",
    "    time.append(data.iloc[row,0])\n",
    "    valid_distance.append(data_valid.iloc[row,11])\n",
    "#__________________________________________________________________________________\n",
    "\n",
    "\n",
    "plt.plot(time, valid_distance, 'r-', label='Validation data', linewidth=0.5)\n",
    "plt.plot(time, y_pred_tab, 'b-', label='Prediction',linewidth=0.5)\n",
    "plt.title('Prediction and Validation Data')\n",
    "plt.xlabel('time (ms)')\n",
    "plt.ylabel('Distance (m)')\n",
    "plt.legend()\n",
    "plt.show()"
   ]
  },
  {
   "cell_type": "code",
   "execution_count": null,
   "id": "b13223da",
   "metadata": {
    "scrolled": true
   },
   "outputs": [],
   "source": [
    "# Print the performance of the neural network\n",
    "from sklearn.metrics import mean_squared_error, mean_absolute_error\n",
    "\n",
    "# Calculate statistics\n",
    "mse = mean_squared_error(valid_distance, y_pred_tab)\n",
    "rmse = np.sqrt(mse)\n",
    "mae = mean_absolute_error(valid_distance, y_pred_tab)\n",
    "r2 = r2_score(valid_distance, y_pred_tab)\n",
    "# mpe = np.mean((valid_distance - y_pred_tab) / valid_distance) * 100\n",
    "\n",
    "print(f'RMSE: {rmse:.4f}') # average error\n",
    "print(f'MAE: {mae:.4f}') # mean absolute error\n",
    "print(f'R²: {r2:.4f}') # determination coefficient (1 is pefect match)\n",
    "# print(f'MPE: {mpe:.4f}%') # mean percentage error\n",
    "\n",
    "totat_distance_error = abs(valid_distance[-1]-y_pred_tab[-1])\n",
    "print(\"totat distance error:\",totat_distance_error)\n",
    "print(\"distance max:\",valid_distance[-1])"
   ]
  },
  {
   "cell_type": "code",
   "execution_count": null,
   "id": "a2ba0939",
   "metadata": {
    "scrolled": true
   },
   "outputs": [],
   "source": [
    "train_loss = hist.history['loss']\n",
    "ep = range(1,len(train_loss)+1)\n",
    "\n",
    "plt.plot(ep,train_loss,'b-',label='train_loss')\n",
    "plt.title('Training and validation loss')\n",
    "plt.legend()\n",
    "plt.xlabel('ep')\n",
    "plt.ylabel('loss')"
   ]
  }
 ],
 "metadata": {
  "kernelspec": {
   "display_name": "Python 3 (ipykernel)",
   "language": "python",
   "name": "python3"
  },
  "language_info": {
   "codemirror_mode": {
    "name": "ipython",
    "version": 3
   },
   "file_extension": ".py",
   "mimetype": "text/x-python",
   "name": "python",
   "nbconvert_exporter": "python",
   "pygments_lexer": "ipython3",
   "version": "3.11.3"
  }
 },
 "nbformat": 4,
 "nbformat_minor": 5
}
